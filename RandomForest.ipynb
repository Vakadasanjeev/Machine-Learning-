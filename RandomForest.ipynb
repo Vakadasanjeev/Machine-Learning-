{
 "cells": [
  {
   "cell_type": "code",
   "execution_count": 1,
   "id": "4c15c9a4",
   "metadata": {},
   "outputs": [],
   "source": [
    "import numpy as np\n",
    "import pandas as pd"
   ]
  },
  {
   "cell_type": "code",
   "execution_count": 3,
   "id": "2ed13768",
   "metadata": {},
   "outputs": [
    {
     "name": "stdout",
     "output_type": "stream",
     "text": [
      "   Pregnancies  Glucose  BloodPressure  SkinThickness  Insulin   BMI  \\\n",
      "0            6      148             72             35        0  33.6   \n",
      "1            1       85             66             29        0  26.6   \n",
      "2            8      183             64              0        0  23.3   \n",
      "3            1       89             66             23       94  28.1   \n",
      "4            0      137             40             35      168  43.1   \n",
      "\n",
      "   DiabetesPedigreeFunction  Age  Outcome  \n",
      "0                     0.627   50        1  \n",
      "1                     0.351   31        0  \n",
      "2                     0.672   32        1  \n",
      "3                     0.167   21        0  \n",
      "4                     2.288   33        1  \n"
     ]
    }
   ],
   "source": [
    "data=pd.read_csv(\"pima.csv\")\n",
    "print(data.head(5))"
   ]
  },
  {
   "cell_type": "code",
   "execution_count": 4,
   "id": "36427f53",
   "metadata": {},
   "outputs": [],
   "source": [
    "x=data.drop(\"Outcome\",axis=1)\n",
    "y=data[\"Outcome\"]"
   ]
  },
  {
   "cell_type": "code",
   "execution_count": 5,
   "id": "fa59ba6a",
   "metadata": {},
   "outputs": [],
   "source": [
    "from sklearn import preprocessing \n",
    "from sklearn.preprocessing import StandardScaler\n",
    "\n",
    "scaler=StandardScaler()\n",
    "xscaled=scaler.fit_transform(x)"
   ]
  },
  {
   "cell_type": "code",
   "execution_count": 6,
   "id": "f644f907",
   "metadata": {},
   "outputs": [],
   "source": [
    "from sklearn.model_selection import train_test_split\n",
    "xtrain,xtest,ytrain,ytest=train_test_split(xscaled,y,stratify=y,test_size=0.2,random_state=34)"
   ]
  },
  {
   "cell_type": "code",
   "execution_count": 7,
   "id": "efa10c5b",
   "metadata": {},
   "outputs": [
    {
     "data": {
      "text/plain": [
       "RandomForestClassifier()"
      ]
     },
     "execution_count": 7,
     "metadata": {},
     "output_type": "execute_result"
    }
   ],
   "source": [
    "from sklearn.ensemble import RandomForestClassifier\n",
    "model=RandomForestClassifier(n_estimators=100)\n",
    "model.fit(xtrain,ytrain)"
   ]
  },
  {
   "cell_type": "code",
   "execution_count": 8,
   "id": "ec43f958",
   "metadata": {},
   "outputs": [
    {
     "name": "stdout",
     "output_type": "stream",
     "text": [
      "0.7727272727272727\n"
     ]
    }
   ],
   "source": [
    "from sklearn.metrics import accuracy_score\n",
    "ypred=model.predict(xtest)\n",
    "print(accuracy_score(ypred,ytest))\n"
   ]
  },
  {
   "cell_type": "code",
   "execution_count": 14,
   "id": "d0f22f95",
   "metadata": {},
   "outputs": [
    {
     "name": "stdout",
     "output_type": "stream",
     "text": [
      "                    feature  importance\n",
      "1                   Glucose    0.269461\n",
      "5                       BMI    0.159735\n",
      "7                       Age    0.133091\n",
      "6  DiabetesPedigreeFunction    0.125354\n",
      "2             BloodPressure    0.091954\n",
      "0               Pregnancies    0.087198\n",
      "3             SkinThickness    0.067942\n",
      "4                   Insulin    0.065265\n"
     ]
    }
   ],
   "source": [
    "feature_importance=pd.DataFrame(\n",
    "{\"feature\":list(x.columns),\"importance\":model.feature_importances_}\n",
    ").sort_values(\"importance\",ascending=False)\n",
    "print(feature_importance)\n"
   ]
  },
  {
   "cell_type": "code",
   "execution_count": null,
   "id": "b42034be",
   "metadata": {},
   "outputs": [],
   "source": []
  }
 ],
 "metadata": {
  "kernelspec": {
   "display_name": "Python 3",
   "language": "python",
   "name": "python3"
  },
  "language_info": {
   "codemirror_mode": {
    "name": "ipython",
    "version": 3
   },
   "file_extension": ".py",
   "mimetype": "text/x-python",
   "name": "python",
   "nbconvert_exporter": "python",
   "pygments_lexer": "ipython3",
   "version": "3.8.8"
  }
 },
 "nbformat": 4,
 "nbformat_minor": 5
}
